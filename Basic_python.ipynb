{
 "cells": [
  {
   "cell_type": "markdown",
   "id": "ede234ec-9dfd-4ff6-adac-788eba2b7444",
   "metadata": {},
   "source": [
    "### Basics of Python"
   ]
  },
  {
   "cell_type": "markdown",
   "id": "8c0fbd1d-4746-4a6c-b453-8b470e9b2a76",
   "metadata": {},
   "source": [
    "#### Data Types:-"
   ]
  },
  {
   "cell_type": "code",
   "execution_count": 2,
   "id": "1f0a9701-808a-401e-b5ae-91a1d69152df",
   "metadata": {},
   "outputs": [
    {
     "data": {
      "text/plain": [
       "2"
      ]
     },
     "execution_count": 2,
     "metadata": {},
     "output_type": "execute_result"
    }
   ],
   "source": [
    "1+1"
   ]
  },
  {
   "cell_type": "code",
   "execution_count": 3,
   "id": "c78208e3-6d51-466f-9a99-afd2c1e66767",
   "metadata": {},
   "outputs": [
    {
     "data": {
      "text/plain": [
       "40"
      ]
     },
     "execution_count": 3,
     "metadata": {},
     "output_type": "execute_result"
    }
   ],
   "source": [
    "4*10"
   ]
  },
  {
   "cell_type": "code",
   "execution_count": 4,
   "id": "ea21978b-3c49-4ab5-8c2b-71fa7b911b81",
   "metadata": {},
   "outputs": [
    {
     "data": {
      "text/plain": [
       "2.0"
      ]
     },
     "execution_count": 4,
     "metadata": {},
     "output_type": "execute_result"
    }
   ],
   "source": [
    "10/5"
   ]
  },
  {
   "cell_type": "code",
   "execution_count": 7,
   "id": "b29dadc5-8f26-4412-b9a0-a9137672b961",
   "metadata": {},
   "outputs": [
    {
     "data": {
      "text/plain": [
       "'strstrstrstrstr'"
      ]
     },
     "execution_count": 7,
     "metadata": {},
     "output_type": "execute_result"
    }
   ],
   "source": [
    "5 * 'str'"
   ]
  },
  {
   "cell_type": "code",
   "execution_count": 8,
   "id": "abde79cb-2cff-4d88-af08-b975eafc8ab3",
   "metadata": {},
   "outputs": [],
   "source": [
    "## cehck the data types "
   ]
  },
  {
   "cell_type": "code",
   "execution_count": 9,
   "id": "80e76b56-95ef-4a01-9648-8689382f6f91",
   "metadata": {},
   "outputs": [
    {
     "data": {
      "text/plain": [
       "int"
      ]
     },
     "execution_count": 9,
     "metadata": {},
     "output_type": "execute_result"
    }
   ],
   "source": [
    "type(2)"
   ]
  },
  {
   "cell_type": "code",
   "execution_count": 10,
   "id": "b52cee20-da91-4593-aa29-8fa050c49c4d",
   "metadata": {},
   "outputs": [
    {
     "data": {
      "text/plain": [
       "bool"
      ]
     },
     "execution_count": 10,
     "metadata": {},
     "output_type": "execute_result"
    }
   ],
   "source": [
    "type(True)"
   ]
  },
  {
   "cell_type": "code",
   "execution_count": 11,
   "id": "e16e008c-f799-4480-86f7-35b794be0589",
   "metadata": {},
   "outputs": [
    {
     "data": {
      "text/plain": [
       "str"
      ]
     },
     "execution_count": 11,
     "metadata": {},
     "output_type": "execute_result"
    }
   ],
   "source": [
    "type('Hello')"
   ]
  },
  {
   "cell_type": "markdown",
   "id": "df7a2dcf-6c60-4e31-aae5-8be147223c0e",
   "metadata": {},
   "source": [
    "### Variable Assignments"
   ]
  },
  {
   "cell_type": "code",
   "execution_count": 12,
   "id": "94299de4-5d5b-49e9-bfb2-07d6c3271e90",
   "metadata": {},
   "outputs": [],
   "source": [
    "#Syntax\n",
    "#var_name = value\n",
    "\n",
    "a = 10"
   ]
  },
  {
   "cell_type": "code",
   "execution_count": 13,
   "id": "fede554a-8737-40ed-be77-5234ee100e98",
   "metadata": {},
   "outputs": [
    {
     "data": {
      "text/plain": [
       "int"
      ]
     },
     "execution_count": 13,
     "metadata": {},
     "output_type": "execute_result"
    }
   ],
   "source": [
    "type(a)"
   ]
  },
  {
   "cell_type": "code",
   "execution_count": 16,
   "id": "884a3d5b-3da9-4c18-a04b-c8c06fac6240",
   "metadata": {},
   "outputs": [
    {
     "name": "stdout",
     "output_type": "stream",
     "text": [
      "Dhruvi\n"
     ]
    },
    {
     "data": {
      "text/plain": [
       "str"
      ]
     },
     "execution_count": 16,
     "metadata": {},
     "output_type": "execute_result"
    }
   ],
   "source": [
    "a = 'Dhruvi'\n",
    "print(a)\n",
    "type(a)"
   ]
  },
  {
   "cell_type": "code",
   "execution_count": 18,
   "id": "6f2a9f4a-e764-456d-9f2d-e0c2cfad5cb0",
   "metadata": {},
   "outputs": [],
   "source": [
    "a = 10\n",
    "b = 20"
   ]
  },
  {
   "cell_type": "code",
   "execution_count": 19,
   "id": "a85e4cd9-3fa7-4f1f-9780-75684843a009",
   "metadata": {},
   "outputs": [
    {
     "name": "stdout",
     "output_type": "stream",
     "text": [
      "200\n",
      "0.5\n",
      "10\n",
      "200.5\n"
     ]
    }
   ],
   "source": [
    "print(a*b)\n",
    "print(a/b)\n",
    "print(a%b)\n",
    "print((a*b)+(a/b)) #BODMAS #Bracket of Division Multiplication Add Sub"
   ]
  },
  {
   "cell_type": "markdown",
   "id": "175b26fc-3f90-447b-8982-19a61c01ae21",
   "metadata": {},
   "source": [
    "#### Various way of printing:-"
   ]
  },
  {
   "cell_type": "code",
   "execution_count": 20,
   "id": "abd7d3ba-8d20-4d05-89fb-cf7f40c49267",
   "metadata": {},
   "outputs": [
    {
     "name": "stdout",
     "output_type": "stream",
     "text": [
      "Hello\n"
     ]
    }
   ],
   "source": [
    "print('Hello')"
   ]
  },
  {
   "cell_type": "code",
   "execution_count": 24,
   "id": "96b2adf7-0bfb-4e33-ad91-5b039027ee22",
   "metadata": {},
   "outputs": [
    {
     "name": "stdout",
     "output_type": "stream",
     "text": [
      "My First name is Dhruvi and last name is Gajjar\n"
     ]
    }
   ],
   "source": [
    "first_name = 'Dhruvi'\n",
    "last_name = 'Gajjar'\n",
    "print('My First name is {} and last name is {}'.format(first_name,last_name))"
   ]
  },
  {
   "cell_type": "code",
   "execution_count": 25,
   "id": "31fe1e44-1ca7-4ab3-83a6-5cc5b8b39126",
   "metadata": {},
   "outputs": [
    {
     "data": {
      "text/plain": [
       "6"
      ]
     },
     "execution_count": 25,
     "metadata": {},
     "output_type": "execute_result"
    }
   ],
   "source": [
    "len('Dhruvi')"
   ]
  },
  {
   "cell_type": "code",
   "execution_count": 26,
   "id": "e8eb80b5-ec10-46a1-9b24-38814e813aa1",
   "metadata": {},
   "outputs": [
    {
     "data": {
      "text/plain": [
       "list"
      ]
     },
     "execution_count": 26,
     "metadata": {},
     "output_type": "execute_result"
    }
   ],
   "source": [
    "type([1,2,3,4,5])"
   ]
  },
  {
   "cell_type": "code",
   "execution_count": 27,
   "id": "05483553-fcb4-4e6c-a64a-039d36a4a613",
   "metadata": {},
   "outputs": [
    {
     "data": {
      "text/plain": [
       "tuple"
      ]
     },
     "execution_count": 27,
     "metadata": {},
     "output_type": "execute_result"
    }
   ],
   "source": [
    "type((1,2,3,4,5))"
   ]
  }
 ],
 "metadata": {
  "kernelspec": {
   "display_name": "Python 3 (ipykernel)",
   "language": "python",
   "name": "python3"
  },
  "language_info": {
   "codemirror_mode": {
    "name": "ipython",
    "version": 3
   },
   "file_extension": ".py",
   "mimetype": "text/x-python",
   "name": "python",
   "nbconvert_exporter": "python",
   "pygments_lexer": "ipython3",
   "version": "3.11.4"
  }
 },
 "nbformat": 4,
 "nbformat_minor": 5
}
